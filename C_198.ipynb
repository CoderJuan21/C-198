{
  "nbformat": 4,
  "nbformat_minor": 0,
  "metadata": {
    "colab": {
      "name": "C-198.ipynb",
      "provenance": [],
      "authorship_tag": "ABX9TyOYV6ko5wugC7YF5/OsqCsK",
      "include_colab_link": true
    },
    "kernelspec": {
      "name": "python3",
      "display_name": "Python 3"
    },
    "language_info": {
      "name": "python"
    }
  },
  "cells": [
    {
      "cell_type": "markdown",
      "metadata": {
        "id": "view-in-github",
        "colab_type": "text"
      },
      "source": [
        "<a href=\"https://colab.research.google.com/github/CoderJuan21/C-198/blob/main/C_198.ipynb\" target=\"_parent\"><img src=\"https://colab.research.google.com/assets/colab-badge.svg\" alt=\"Open In Colab\"/></a>"
      ]
    },
    {
      "cell_type": "code",
      "execution_count": 3,
      "metadata": {
        "colab": {
          "base_uri": "https://localhost:8080/"
        },
        "id": "K2P-yw_JS80j",
        "outputId": "2dad6ecf-c085-4272-f4ef-bbb4fa3a0bf3"
      },
      "outputs": [
        {
          "output_type": "stream",
          "name": "stdout",
          "text": [
            "enter marks of 5 subjects\n",
            "100\n",
            "0\n",
            "0\n",
            "0\n",
            "100\n",
            "avergae mark:40.0\n"
          ]
        }
      ],
      "source": [
        "total = 0\n",
        "print(\"enter marks of 5 subjects\")\n",
        "for i in range(5):\n",
        "  score = int(input())\n",
        "  total+=score\n",
        "average = total/5\n",
        "print(f\"avergae mark:{average}\")"
      ]
    },
    {
      "cell_type": "code",
      "source": [
        "count=0\n",
        "number=2\n",
        "while count<10:\n",
        "  if number%2 == 0:\n",
        "    print(number)\n",
        "    count+=1\n",
        "  number+=1"
      ],
      "metadata": {
        "colab": {
          "base_uri": "https://localhost:8080/"
        },
        "id": "qIL5rx8FT-pn",
        "outputId": "8927fa06-abc4-4a0b-81a0-98fd100d5e38"
      },
      "execution_count": 13,
      "outputs": [
        {
          "output_type": "stream",
          "name": "stdout",
          "text": [
            "2\n",
            "4\n",
            "6\n",
            "8\n",
            "10\n",
            "12\n",
            "14\n",
            "16\n",
            "18\n",
            "20\n"
          ]
        }
      ]
    },
    {
      "cell_type": "code",
      "source": [
        "count=0\n",
        "number=2\n",
        "while count<10:\n",
        "  if number%2 != 0:\n",
        "    print(number)\n",
        "    count+=1\n",
        "  number+=1"
      ],
      "metadata": {
        "colab": {
          "base_uri": "https://localhost:8080/"
        },
        "id": "HYkcQDNWVjtd",
        "outputId": "9ecef784-dc4a-4f1e-9781-24b3667aa9a2"
      },
      "execution_count": 14,
      "outputs": [
        {
          "output_type": "stream",
          "name": "stdout",
          "text": [
            "3\n",
            "5\n",
            "7\n",
            "9\n",
            "11\n",
            "13\n",
            "15\n",
            "17\n",
            "19\n",
            "21\n"
          ]
        }
      ]
    },
    {
      "cell_type": "code",
      "source": [
        "print(\"calculator\")\n",
        "print(\"1.addition\")\n",
        "print(\"2.subscration\")\n",
        "print(\"3.multiplication\")\n",
        "print(\"4.division\")\n",
        "choice=int(input(\"ENTER YORU CHOUCE!!!!(1,2,3,4)\"))\n",
        "if(choice >= 1 and choice <= 4):\n",
        "  print(\"enter 2 numbers\")\n",
        "  number1 = int(input(\"enter the first number\"))\n",
        "  number2 = int(input(\"enter the second number\"))\n",
        "  if choice == 1:\n",
        "    print(f\"result:{number1+number2}\")\n",
        "  elif choice == 2:\n",
        "    print(f\"result:{number1-number2}\")\n",
        "  elif choice == 3:\n",
        "    print(f\"result:{number1*number2}\")\n",
        "  else:\n",
        "    print(f\"result:{number1/number2}\")\n",
        "else:\n",
        "  print(\"incorrect input\")"
      ],
      "metadata": {
        "colab": {
          "base_uri": "https://localhost:8080/"
        },
        "id": "kY3nMVneVuCi",
        "outputId": "a7ed7e91-851e-460f-d90d-2232fb9523b3"
      },
      "execution_count": 21,
      "outputs": [
        {
          "output_type": "stream",
          "name": "stdout",
          "text": [
            "calculator\n",
            "1.addition\n",
            "2.subscration\n",
            "3.multiplication\n",
            "4.division\n",
            "ENTER YORU CHOUCE!!!!(1,2,3,4)5\n",
            "incorrect input\n"
          ]
        }
      ]
    }
  ]
}